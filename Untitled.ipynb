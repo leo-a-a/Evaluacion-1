{
 "cells": [
  {
   "cell_type": "markdown",
   "id": "moved-conditioning",
   "metadata": {},
   "source": [
    "### Escalon unitario infinito"
   ]
  },
  {
   "cell_type": "code",
   "execution_count": null,
   "id": "formed-press",
   "metadata": {},
   "outputs": [],
   "source": []
  },
  {
   "cell_type": "code",
   "execution_count": null,
   "id": "afraid-central",
   "metadata": {},
   "outputs": [],
   "source": []
  },
  {
   "cell_type": "markdown",
   "id": "combined-vacuum",
   "metadata": {},
   "source": [
    "### Secuencia exponencial"
   ]
  },
  {
   "cell_type": "code",
   "execution_count": null,
   "id": "cosmetic-asbestos",
   "metadata": {},
   "outputs": [],
   "source": []
  }
 ],
 "metadata": {
  "kernelspec": {
   "display_name": "acus099",
   "language": "python",
   "name": "acus099"
  },
  "language_info": {
   "codemirror_mode": {
    "name": "ipython",
    "version": 3
   },
   "file_extension": ".py",
   "mimetype": "text/x-python",
   "name": "python",
   "nbconvert_exporter": "python",
   "pygments_lexer": "ipython3",
   "version": "3.7.4"
  }
 },
 "nbformat": 4,
 "nbformat_minor": 5
}
