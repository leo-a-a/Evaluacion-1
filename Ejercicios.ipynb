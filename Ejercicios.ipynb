{
 "cells": [
  {
   "cell_type": "code",
   "execution_count": 1,
   "id": "formed-press",
   "metadata": {},
   "outputs": [],
   "source": [
    "#importacion de librerias\n",
    "import numpy as np                            \n",
    "import matplotlib.pyplot as plt\n"
   ]
  },
  {
   "cell_type": "markdown",
   "id": "skilled-aging",
   "metadata": {},
   "source": [
    "<h1 style=\"text-align:center\">EV1 Graficas de Escalones Unitarios y Secuencias</h1>\n",
    "<h3 style=\"text-align:center\">ACUS099: Procesamiento digital de señales</h3>\n",
    "<p style=\"text-align:center\">Leandro Aguilar <br>\n",
    "<a href=\"mailto:leandro.aguilar@alumnos.uach.cl\">leandro.aguilar@alumnos.uach.cl</a><br>\n",
    "\n",
    "<p style=\"text-align:center\">Luis Milling<br>\n",
    "<a href=\"mailto:luis.milling@alumnos.uach.cl\">luis.milling@alumnos.uach.cl</a><br>\n"
   ]
  },
  {
   "cell_type": "markdown",
   "id": "moved-conditioning",
   "metadata": {},
   "source": [
    "### 1. Escalon unitario infinito\n",
    "\n",
    "Definición de Delta de Kronecker, en base al cual se contruye el escalon unitario:\n",
    "\n",
    "\\begin{align}\n",
    "\\text{centrada:}\\quad \\delta[n] &= \\begin{cases}\n",
    "1 & \\text{para } n = 0 \\\\\n",
    "0 & \\text{otro caso}\n",
    "\\end{cases}\n",
    "\\end{align}"
   ]
  },
  {
   "cell_type": "code",
   "execution_count": 15,
   "id": "afraid-central",
   "metadata": {},
   "outputs": [
    {
     "data": {
      "text/plain": [
       "(-17.0, 17.0)"
      ]
     },
     "execution_count": 15,
     "metadata": {},
     "output_type": "execute_result"
    },
    {
     "data": {
      "image/png": "[encoded data removed]",
      "text/plain": [
       "<Figure size 504x288 with 1 Axes>"
      ]
     },
     "metadata": {
      "needs_background": "light"
     },
     "output_type": "display_data"
    }
   ],
   "source": [
    "#Escalon infinito\n",
    "size=15                                 #tamaño de muestreo\n",
    "sec2=np.linspace(-size,size,2*size+1)   #ajuste de grafico para plotear cada numero entero en el eje x\n",
    "N=0                                     #punto de partida la funcion\n",
    "escalon2=(sec2>=N)*1                    #definicion de la funcion\n",
    "\n",
    "#codigo de grafico\n",
    "fig_escalon2,ax_escalon2=plt.subplots(nrows=1,figsize=(7,4),tight_layout=True)\n",
    "baseline=ax_escalon2.stem(sec2,escalon2,markerfmt='ro')\n",
    "ax_escalon2.set_xlabel('n')\n",
    "ax_escalon2.set_ylabel('Amplitud')\n",
    "ax_escalon2.set_title('Escalón infinito')\n",
    "ax_escalon2.set_ylim(-0.5,2)\n",
    "ax_escalon2.set_xlim(-17,17)"
   ]
  },
  {
   "cell_type": "markdown",
   "id": "worse-female",
   "metadata": {},
   "source": [
    "### 2. Escalon unitario finito"
   ]
  },
  {
   "cell_type": "code",
   "execution_count": 16,
   "id": "dated-prior",
   "metadata": {},
   "outputs": [
    {
     "data": {
      "text/plain": [
       "(-50.0, 50.0)"
      ]
     },
     "execution_count": 16,
     "metadata": {},
     "output_type": "execute_result"
    },
    {
     "data": {
      "image/png": "[encoded data removed]",
      "text/plain": [
       "<Figure size 504x288 with 1 Axes>"
      ]
     },
     "metadata": {
      "needs_background": "light"
     },
     "output_type": "display_data"
    }
   ],
   "source": [
    "#Escalon finito\n",
    "size=50                                   #tamaño de muestreo\n",
    "sec2=np.linspace(-size,size,2*size+1)     #ajuste de grafico para plotear cada numero entero en el eje x\n",
    "N=0                                       #punto de partida de la funcion\n",
    "escalon2=(sec2>=N)*1                      #definicion de la funcion\n",
    "\n",
    "#codigo de grafico\n",
    "fig_escalon2,ax_escalon2=plt.subplots(nrows=1,figsize=(7,4),tight_layout=True)\n",
    "baseline=ax_escalon2.stem(sec2,escalon2,markerfmt='ro')\n",
    "ax_escalon2.set_xlabel('n')\n",
    "ax_escalon2.set_ylabel('Amplitud')\n",
    "ax_escalon2.set_title('Escalón finito')\n",
    "ax_escalon2.set_ylim(-0.5,2)\n",
    "ax_escalon2.set_xlim(-size,size)"
   ]
  },
  {
   "cell_type": "markdown",
   "id": "combined-vacuum",
   "metadata": {},
   "source": [
    "### 3. Secuencia exponencial"
   ]
  },
  {
   "cell_type": "markdown",
   "id": "indie-humidity",
   "metadata": {},
   "source": [
    "Funcion de Secuencia exponencial:\n",
    "$\\ x[n]=a^n $"
   ]
  },
  {
   "cell_type": "code",
   "execution_count": 4,
   "id": "cosmetic-asbestos",
   "metadata": {},
   "outputs": [
    {
     "data": {
      "text/plain": [
       "Text(0.5, 1.0, 'Plot senal exponencial $x[n] = a^{n}$')"
      ]
     },
     "execution_count": 4,
     "metadata": {},
     "output_type": "execute_result"
    },
    {
     "data": {
      "image/png": "[encoded data removed]",
      "text/plain": [
       "<Figure size 864x288 with 1 Axes>"
      ]
     },
     "metadata": {
      "needs_background": "light"
     },
     "output_type": "display_data"
    }
   ],
   "source": [
    "n = np.arange(50)                         #largo de muestreo\n",
    "a = 0.85                                  #condicion de exponencial\n",
    "x = a**n                                  #definicion de funcion\n",
    "\n",
    "#codigo de grafico\n",
    "plt.subplots(figsize=(12, 4))             \n",
    "plt.stem(n, x)\n",
    "plt.ylabel('x[n]')\n",
    "plt.xlabel('n')\n",
    "plt.title(r'Plot senal exponencial $x[n] = a^{n}$')"
   ]
  }
 ],
 "metadata": {
  "kernelspec": {
   "display_name": "acus099",
   "language": "python",
   "name": "acus099"
  },
  "language_info": {
   "codemirror_mode": {
    "name": "ipython",
    "version": 3
   },
   "file_extension": ".py",
   "mimetype": "text/x-python",
   "name": "python",
   "nbconvert_exporter": "python",
   "pygments_lexer": "ipython3",
   "version": "3.7.4"
  }
 },
 "nbformat": 4,
 "nbformat_minor": 5
}
