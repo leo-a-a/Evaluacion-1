{
 "cells": [
  {
   "cell_type": "code",
   "execution_count": 4,
   "id": "formed-press",
   "metadata": {},
   "outputs": [],
   "source": [
    "import numpy as np                    #importacion de librerias        \n",
    "import matplotlib.pyplot as plt\n"
   ]
  },
  {
   "cell_type": "markdown",
   "id": "moved-conditioning",
   "metadata": {},
   "source": [
    "### Escalon unitario infinito\n",
    "\n",
    "\\begin{align}\n",
    "\\text{centrada:}\\quad \\delta[n] &= \\begin{cases}\n",
    "1 & \\text{para } n = 0 \\\\\n",
    "0 & \\text{otro caso}\n",
    "\\end{cases}\n",
    "\\end{align}"
   ]
  },
  {
   "cell_type": "code",
   "execution_count": null,
   "id": "afraid-central",
   "metadata": {},
   "outputs": [],
   "source": []
  },
  {
   "cell_type": "markdown",
   "id": "combined-vacuum",
   "metadata": {},
   "source": [
    "### Secuencia exponencial"
   ]
  },
  {
   "cell_type": "markdown",
   "id": "collaborative-accreditation",
   "metadata": {},
   "source": [
    "$\\ x[n]=a^n $"
   ]
  },
  {
   "cell_type": "code",
   "execution_count": 7,
   "id": "cosmetic-asbestos",
   "metadata": {},
   "outputs": [
    {
     "data": {
      "text/plain": [
       "Text(0.5, 1.0, 'Plot senal exponencial $x[n] = a^{n}$')"
      ]
     },
     "execution_count": 7,
     "metadata": {},
     "output_type": "execute_result"
    },
    {
     "data": {
      "image/png": "[encoded data removed]",
      "text/plain": [
       "<Figure size 864x288 with 1 Axes>"
      ]
     },
     "metadata": {
      "needs_background": "light"
     },
     "output_type": "display_data"
    }
   ],
   "source": [
    "n = np.arange(50)                         #largo de muestreo\n",
    "a = 0.85                                  #condicion de exponencial\n",
    "x = a**n                                  #funcion exp\n",
    "\n",
    "\n",
    "plt.subplots(figsize=(12, 4))             #\n",
    "plt.stem(n, x)\n",
    "plt.ylabel('x[n]')\n",
    "plt.xlabel('n')\n",
    "plt.title(r'Plot senal exponencial $x[n] = a^{n}$')"
   ]
  },
  {
   "cell_type": "code",
   "execution_count": null,
   "id": "occupational-export",
   "metadata": {},
   "outputs": [],
   "source": []
  }
 ],
 "metadata": {
  "kernelspec": {
   "display_name": "acus099",
   "language": "python",
   "name": "acus099"
  },
  "language_info": {
   "codemirror_mode": {
    "name": "ipython",
    "version": 3
   },
   "file_extension": ".py",
   "mimetype": "text/x-python",
   "name": "python",
   "nbconvert_exporter": "python",
   "pygments_lexer": "ipython3",
   "version": "3.7.4"
  }
 },
 "nbformat": 4,
 "nbformat_minor": 5
}
