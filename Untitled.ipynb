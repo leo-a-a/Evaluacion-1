{
 "cells": [
  {
   "cell_type": "code",
   "execution_count": 4,
   "id": "formed-press",
   "metadata": {},
   "outputs": [],
   "source": [
    "import numpy as np\n",
    "import matplotlib.pyplot as plt\n"
   ]
  },
  {
   "cell_type": "markdown",
   "id": "moved-conditioning",
   "metadata": {},
   "source": [
    "### Escalon unitario infinito"
   ]
  },
  {
   "cell_type": "code",
   "execution_count": null,
   "id": "afraid-central",
   "metadata": {},
   "outputs": [],
   "source": []
  },
  {
   "cell_type": "markdown",
   "id": "combined-vacuum",
   "metadata": {},
   "source": [
    "### Secuencia exponencial"
   ]
  },
  {
   "cell_type": "code",
   "execution_count": 6,
   "id": "cosmetic-asbestos",
   "metadata": {},
   "outputs": [
    {
     "data": {
      "text/plain": [
       "Text(0.5, 1.0, 'Plot senal exponencial $x[n] = a_1^{n}$')"
      ]
     },
     "execution_count": 6,
     "metadata": {},
     "output_type": "execute_result"
    },
    {
     "data": {
      "image/png": "[encoded data removed]",
      "text/plain": [
       "<Figure size 864x288 with 1 Axes>"
      ]
     },
     "metadata": {
      "needs_background": "light"
     },
     "output_type": "display_data"
    }
   ],
   "source": [
    "n = np.arange(50)\n",
    "a1 = 0.85\n",
    "x1 = a1**n\n",
    "\n",
    "\n",
    "plt.subplots(figsize=(12, 4))\n",
    "plt.stem(n, x1)\n",
    "plt.ylabel('x[n]')\n",
    "plt.xlabel('n')\n",
    "plt.title(r'Plot senal exponencial $x[n] = a_1^{n}$')"
   ]
  },
  {
   "cell_type": "code",
   "execution_count": null,
   "id": "hearing-bristol",
   "metadata": {},
   "outputs": [],
   "source": []
  }
 ],
 "metadata": {
  "kernelspec": {
   "display_name": "acus099",
   "language": "python",
   "name": "acus099"
  },
  "language_info": {
   "codemirror_mode": {
    "name": "ipython",
    "version": 3
   },
   "file_extension": ".py",
   "mimetype": "text/x-python",
   "name": "python",
   "nbconvert_exporter": "python",
   "pygments_lexer": "ipython3",
   "version": "3.7.4"
  }
 },
 "nbformat": 4,
 "nbformat_minor": 5
}
